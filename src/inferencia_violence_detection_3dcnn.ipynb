{
 "cells": [
  {
   "cell_type": "markdown",
   "metadata": {},
   "source": [
    "# Notebook de inferencia — **3DCNN** (modelo alterno)\n",
    "\n",
    "Este cuaderno ejecuta **inferencias reproducibles** para generar los artefactos escenciales cuantitativos y gráficos:\n",
    "- Predicciones por instancia (\\`y_true\\`, \\`y_pred\\`, \\`y_score\\`).\n",
    "- Métricas puntuales (F1, accuracy, precision, recall, AUC, sensibilidad, especificidad) **+ IC 95% por bootstrap (B=1000, semilla=42)**.\n",
    "- **Matriz de confusión** (PNG) y **Curva ROC** (PNG, con IC opcional por bootstrap).\n",
    "- **Eficiencia**: latencia/FPS y tamaño del modelo.\n",
    "- (**Opcional**) **McNemar** al comparar con el modelo propuesto si se provee \\`preds_propuesto.csv\\`.\n",
    "\n",
    "⚠️ **Requisitos**: tener disponibles los módulos del proyecto en el \\`PYTHONPATH\\` o en el directorio de trabajo:  \n",
    "- `cnn3d.py` (arquitectura alterna),  \n",
    "- `rwf_npy_dataset.py` (dataset de inferencia),  \n",
    "- `tensor_transform.py` (transformaciones/normalización),  \n",
    "- `config_inference_altern.yaml` (configuración inferencia),  \n",
    "- `model_cnn3d.pth` (checkpoint del modelo alterno).\n",
    "\n"
   ]
  },
  {
   "cell_type": "code",
   "execution_count": 2,
   "id": "f275a8cb",
   "metadata": {},
   "outputs": [],
   "source": [
    "# ==============================\n",
    "# 1) Importaciones y utilidades\n",
    "# ==============================\n",
    "from __future__ import annotations\n",
    "import os, json, math, time, random\n",
    "from model.cnn3d import ViolenceDualStreamNet\n",
    "from datasets.rwf_npy_dataset import RWFNpyDataset\n",
    "from datasets.tensor_transform import TensorVideoTransforms\n",
    "from utils.seed import set_seed\n",
    "from torchinfo import summary\n",
    "from typing import Tuple, Dict, Any, List\n",
    "import numpy as np\n",
    "import torch\n",
    "import torch.nn as nn\n",
    "from torch.utils.data import DataLoader\n",
    "from pathlib import Path\n",
    "import yaml\n",
    "import matplotlib.pyplot as plt\n",
    "from sklearn.metrics import (f1_score, accuracy_score, precision_score, recall_score,\n",
    "                             roc_auc_score, confusion_matrix, roc_curve)\n",
    "from utils.config_loader import ConfigLoader\n",
    "from dotenv import load_dotenv\n",
    "\n",
    "\n",
    "dotenv_path = Path().resolve().parent.parent / \".env\"\n",
    "# Carga variables de entorno desde .env si existe\n",
    "load_dotenv()\n",
    "device = torch.device(\"cuda\" if torch.cuda.is_available() else \"cpu\")"
   ]
  },
  {
   "cell_type": "code",
   "execution_count": 3,
   "id": "62fc2ce9",
   "metadata": {},
   "outputs": [],
   "source": [
    "BASE_DIR = os.getcwd()\n",
    "CONFIG_PATH = os.path.join(BASE_DIR,  \"config\", \"config.yaml\")\n",
    "CONFIG_BEST_PATH = os.path.join(BASE_DIR, \"config\", \"config_inference_altern.yaml\")\n"
   ]
  },
  {
   "cell_type": "code",
   "execution_count": 4,
   "id": "602d97ca",
   "metadata": {},
   "outputs": [],
   "source": [
    "def load_config() -> object:\n",
    "    \"\"\"\n",
    "    Load configuration YAML, prioritizing best config if exists.\n",
    "\n",
    "    Returns\n",
    "    -------\n",
    "    object\n",
    "        Parsed config object.\n",
    "    \"\"\"\n",
    "    path = CONFIG_BEST_PATH if os.path.exists(CONFIG_BEST_PATH) else CONFIG_PATH\n",
    "    print(f\"⚙️  Loading configuration from: {path}\")\n",
    "    return ConfigLoader(path).get()"
   ]
  },
  {
   "cell_type": "code",
   "execution_count": 5,
   "id": "1b0f2e8d",
   "metadata": {},
   "outputs": [
    {
     "name": "stdout",
     "output_type": "stream",
     "text": [
      "⚙️  Loading configuration from: f:\\tesis_2025\\violence_detection\\Repositorio\\DS3D-FGAttNET\\src\\config\\config_inference_altern.yaml\n"
     ]
    }
   ],
   "source": [
    "config = load_config()"
   ]
  },
  {
   "cell_type": "code",
   "execution_count": 6,
   "id": "c6601855",
   "metadata": {},
   "outputs": [
    {
     "name": "stdout",
     "output_type": "stream",
     "text": [
      "F:\\tesis_2025\\violence_detection\\Repositorio\\DS3D-FGAttNET\\src\\inference\\model\\model_cnn3d.pth\n"
     ]
    }
   ],
   "source": [
    "# ======================================\n",
    "# 2) Configuración de rutas y parámetros\n",
    "# ======================================\n",
    "CHECKPOINT_PATH = Path(config.inference.model_path)   # <-- ajusta si está en otra ruta\n",
    "BATCH_SIZE = 8\n",
    "NUM_WORKERS = 6\n",
    "THRESHOLD = 0.5  # pre-especificado en §4.3.8\n",
    "BOOTSTRAP_B = 1000\n",
    "BOOTSTRAP_SEED = 42\n",
    "\n",
    "print(CHECKPOINT_PATH.resolve())"
   ]
  },
  {
   "cell_type": "code",
   "execution_count": 7,
   "id": "57e165e7",
   "metadata": {},
   "outputs": [],
   "source": [
    "# ===================================\n",
    "# 3) Definición de funciones generales\n",
    "# ===================================\n",
    "\n",
    "def collect_npy_paths(base_path: str) -> Tuple[List[str], List[int]]:\n",
    "    \"\"\"\n",
    "    Collect .npy file paths and their labels from dataset directories.\n",
    "\n",
    "    Parameters\n",
    "    ----------\n",
    "    base_path : str\n",
    "        Path to dataset split directory.\n",
    "\n",
    "    Returns\n",
    "    -------\n",
    "    Tuple[List[str], List[int]]\n",
    "        File paths and integer labels.\n",
    "    \"\"\"\n",
    "    paths, labels = [], []\n",
    "    for class_name, label in zip([\"Fight\", \"NonFight\"], [1, 0]):\n",
    "        class_dir = os.path.join(base_path, class_name)\n",
    "        if not os.path.exists(class_dir):\n",
    "            continue\n",
    "        for fname in sorted(os.listdir(class_dir)):\n",
    "            if fname.endswith(\".npy\"):\n",
    "                paths.append(os.path.join(class_dir, fname))\n",
    "                labels.append(label)\n",
    "    return paths, labels\n",
    "\n",
    "def load_model(config:Any):\n",
    "    model = ViolenceDualStreamNet(\n",
    "    num_classes=config.model.num_classes,\n",
    "    dropout=config.model.dropout,\n",
    "    classifier_hidden=getattr(config.model, \"classifier_hidden\", 128)\n",
    ")\n",
    "    model_path = config.inference.model_path  # Debe existir el modelo .pth o .pt\n",
    "    model.load_state_dict(torch.load(model_path, map_location=device))\n",
    "    model.to(device)\n",
    "    return model\n",
    "    \n",
    "def prepare_test_suite(config:any):\n",
    "    test_paths, test_labels = collect_npy_paths(os.path.join(config.dataset.root, \"val\"))\n",
    "\n",
    "    test_dataset = RWFNpyDataset(\n",
    "        test_paths,\n",
    "        test_labels,\n",
    "        transform=TensorVideoTransforms.from_config(config, mode=\"val\"),  # val equivale a no aplicar augmentación\n",
    "        normalize_global=getattr(config.dataset, \"normalize_global\", True),\n",
    "        expected_shape=(5, 32, 224, 224)\n",
    "    )\n",
    "    set_seed(config.general.seed)\n",
    "    return DataLoader(test_dataset, batch_size=BATCH_SIZE, shuffle=False, num_workers=NUM_WORKERS, pin_memory=(device.type=='cuda'))"
   ]
  },
  {
   "cell_type": "code",
   "execution_count": 8,
   "metadata": {},
   "outputs": [],
   "source": [
    "plt.rcParams.update({\n",
    "    'figure.dpi': 120,\n",
    "    'savefig.dpi': 300,\n",
    "    'figure.facecolor': 'white',\n",
    "    'axes.facecolor': 'white'\n",
    "})\n",
    "\n",
    "OUT_DIR = Path(config.inference.output_path)\n",
    "OUT_DIR.mkdir(parents=True, exist_ok=True)\n",
    "\n",
    "def save_json(obj: Any, path: Path):\n",
    "    path.parent.mkdir(parents=True, exist_ok=True)\n",
    "    with open(path, 'w', encoding='utf-8') as f:\n",
    "        json.dump(obj, f, indent=2, ensure_ascii=False)\n",
    "\n",
    "\n",
    "def ensure_dir(p: Path):\n",
    "    p.mkdir(parents=True, exist_ok=True)\n",
    "\n",
    "def binom_test_two_sided(k: int, n: int) -> float:\n",
    "    \"\"\"\n",
    "    McNemar exact test (two-sided) via binomial test under H0: p=0.5.\n",
    "    Returns p-value using a probability mass mirror approach.\n",
    "    \"\"\"\n",
    "    from math import comb\n",
    "    if n == 0:\n",
    "        return 1.0\n",
    "    # probability mass function for Bin(n, 0.5)\n",
    "    pmf = lambda x: comb(n, x) * (0.5 ** n)\n",
    "    # Two-sided: sum probabilities of outcomes with probability <= pmf(k)\n",
    "    p_k = pmf(k)\n",
    "    return float(sum(pmf(x) for x in range(0, n+1) if pmf(x) <= p_k))\n"
   ]
  },
  {
   "cell_type": "code",
   "execution_count": 9,
   "metadata": {},
   "outputs": [
    {
     "data": {
      "text/plain": [
       "ViolenceDualStreamNet(\n",
       "  (rgb_stream): Sequential(\n",
       "    (0): Separable3DConv(\n",
       "      (spatial): Conv3d(3, 16, kernel_size=(1, 3, 3), stride=(1, 1, 1), padding=(0, 1, 1), bias=False)\n",
       "      (temporal): Conv3d(16, 16, kernel_size=(3, 1, 1), stride=(1, 1, 1), padding=(1, 0, 0), bias=False)\n",
       "      (bn): BatchNorm3d(16, eps=1e-05, momentum=0.1, affine=True, track_running_stats=True)\n",
       "      (activationRGB): ReLU(inplace=True)\n",
       "      (activationFlow): ReLU(inplace=True)\n",
       "    )\n",
       "    (1): Separable3DConv(\n",
       "      (spatial): Conv3d(16, 16, kernel_size=(1, 3, 3), stride=(1, 1, 1), padding=(0, 1, 1), bias=False)\n",
       "      (temporal): Conv3d(16, 16, kernel_size=(3, 1, 1), stride=(1, 1, 1), padding=(1, 0, 0), bias=False)\n",
       "      (bn): BatchNorm3d(16, eps=1e-05, momentum=0.1, affine=True, track_running_stats=True)\n",
       "      (activationRGB): ReLU(inplace=True)\n",
       "      (activationFlow): ReLU(inplace=True)\n",
       "    )\n",
       "    (2): MaxPool3d(kernel_size=(1, 2, 2), stride=(1, 2, 2), padding=0, dilation=1, ceil_mode=False)\n",
       "    (3): Separable3DConv(\n",
       "      (spatial): Conv3d(16, 16, kernel_size=(1, 3, 3), stride=(1, 1, 1), padding=(0, 1, 1), bias=False)\n",
       "      (temporal): Conv3d(16, 16, kernel_size=(3, 1, 1), stride=(1, 1, 1), padding=(1, 0, 0), bias=False)\n",
       "      (bn): BatchNorm3d(16, eps=1e-05, momentum=0.1, affine=True, track_running_stats=True)\n",
       "      (activationRGB): ReLU(inplace=True)\n",
       "      (activationFlow): ReLU(inplace=True)\n",
       "    )\n",
       "    (4): Separable3DConv(\n",
       "      (spatial): Conv3d(16, 16, kernel_size=(1, 3, 3), stride=(1, 1, 1), padding=(0, 1, 1), bias=False)\n",
       "      (temporal): Conv3d(16, 16, kernel_size=(3, 1, 1), stride=(1, 1, 1), padding=(1, 0, 0), bias=False)\n",
       "      (bn): BatchNorm3d(16, eps=1e-05, momentum=0.1, affine=True, track_running_stats=True)\n",
       "      (activationRGB): ReLU(inplace=True)\n",
       "      (activationFlow): ReLU(inplace=True)\n",
       "    )\n",
       "    (5): MaxPool3d(kernel_size=(1, 2, 2), stride=(1, 2, 2), padding=0, dilation=1, ceil_mode=False)\n",
       "    (6): Separable3DConv(\n",
       "      (spatial): Conv3d(16, 32, kernel_size=(1, 3, 3), stride=(1, 1, 1), padding=(0, 1, 1), bias=False)\n",
       "      (temporal): Conv3d(32, 32, kernel_size=(3, 1, 1), stride=(1, 1, 1), padding=(1, 0, 0), bias=False)\n",
       "      (bn): BatchNorm3d(32, eps=1e-05, momentum=0.1, affine=True, track_running_stats=True)\n",
       "      (activationRGB): ReLU(inplace=True)\n",
       "      (activationFlow): ReLU(inplace=True)\n",
       "    )\n",
       "    (7): Separable3DConv(\n",
       "      (spatial): Conv3d(32, 32, kernel_size=(1, 3, 3), stride=(1, 1, 1), padding=(0, 1, 1), bias=False)\n",
       "      (temporal): Conv3d(32, 32, kernel_size=(3, 1, 1), stride=(1, 1, 1), padding=(1, 0, 0), bias=False)\n",
       "      (bn): BatchNorm3d(32, eps=1e-05, momentum=0.1, affine=True, track_running_stats=True)\n",
       "      (activationRGB): ReLU(inplace=True)\n",
       "      (activationFlow): ReLU(inplace=True)\n",
       "    )\n",
       "    (8): MaxPool3d(kernel_size=(1, 2, 2), stride=(1, 2, 2), padding=0, dilation=1, ceil_mode=False)\n",
       "    (9): Separable3DConv(\n",
       "      (spatial): Conv3d(32, 32, kernel_size=(1, 3, 3), stride=(1, 1, 1), padding=(0, 1, 1), bias=False)\n",
       "      (temporal): Conv3d(32, 32, kernel_size=(3, 1, 1), stride=(1, 1, 1), padding=(1, 0, 0), bias=False)\n",
       "      (bn): BatchNorm3d(32, eps=1e-05, momentum=0.1, affine=True, track_running_stats=True)\n",
       "      (activationRGB): ReLU(inplace=True)\n",
       "      (activationFlow): ReLU(inplace=True)\n",
       "    )\n",
       "    (10): Separable3DConv(\n",
       "      (spatial): Conv3d(32, 32, kernel_size=(1, 3, 3), stride=(1, 1, 1), padding=(0, 1, 1), bias=False)\n",
       "      (temporal): Conv3d(32, 32, kernel_size=(3, 1, 1), stride=(1, 1, 1), padding=(1, 0, 0), bias=False)\n",
       "      (bn): BatchNorm3d(32, eps=1e-05, momentum=0.1, affine=True, track_running_stats=True)\n",
       "      (activationRGB): ReLU(inplace=True)\n",
       "      (activationFlow): ReLU(inplace=True)\n",
       "    )\n",
       "    (11): MaxPool3d(kernel_size=(1, 2, 2), stride=(1, 2, 2), padding=0, dilation=1, ceil_mode=False)\n",
       "  )\n",
       "  (flow_stream): Sequential(\n",
       "    (0): Separable3DConv(\n",
       "      (spatial): Conv3d(2, 16, kernel_size=(1, 3, 3), stride=(1, 1, 1), padding=(0, 1, 1), bias=False)\n",
       "      (temporal): Conv3d(16, 16, kernel_size=(3, 1, 1), stride=(1, 1, 1), padding=(1, 0, 0), bias=False)\n",
       "      (bn): BatchNorm3d(16, eps=1e-05, momentum=0.1, affine=True, track_running_stats=True)\n",
       "      (activationRGB): ReLU(inplace=True)\n",
       "      (activationFlow): ReLU(inplace=True)\n",
       "    )\n",
       "    (1): Separable3DConv(\n",
       "      (spatial): Conv3d(16, 16, kernel_size=(1, 3, 3), stride=(1, 1, 1), padding=(0, 1, 1), bias=False)\n",
       "      (temporal): Conv3d(16, 16, kernel_size=(3, 1, 1), stride=(1, 1, 1), padding=(1, 0, 0), bias=False)\n",
       "      (bn): BatchNorm3d(16, eps=1e-05, momentum=0.1, affine=True, track_running_stats=True)\n",
       "      (activationRGB): ReLU(inplace=True)\n",
       "      (activationFlow): ReLU(inplace=True)\n",
       "    )\n",
       "    (2): MaxPool3d(kernel_size=(1, 2, 2), stride=(1, 2, 2), padding=0, dilation=1, ceil_mode=False)\n",
       "    (3): Separable3DConv(\n",
       "      (spatial): Conv3d(16, 16, kernel_size=(1, 3, 3), stride=(1, 1, 1), padding=(0, 1, 1), bias=False)\n",
       "      (temporal): Conv3d(16, 16, kernel_size=(3, 1, 1), stride=(1, 1, 1), padding=(1, 0, 0), bias=False)\n",
       "      (bn): BatchNorm3d(16, eps=1e-05, momentum=0.1, affine=True, track_running_stats=True)\n",
       "      (activationRGB): ReLU(inplace=True)\n",
       "      (activationFlow): ReLU(inplace=True)\n",
       "    )\n",
       "    (4): Separable3DConv(\n",
       "      (spatial): Conv3d(16, 16, kernel_size=(1, 3, 3), stride=(1, 1, 1), padding=(0, 1, 1), bias=False)\n",
       "      (temporal): Conv3d(16, 16, kernel_size=(3, 1, 1), stride=(1, 1, 1), padding=(1, 0, 0), bias=False)\n",
       "      (bn): BatchNorm3d(16, eps=1e-05, momentum=0.1, affine=True, track_running_stats=True)\n",
       "      (activationRGB): ReLU(inplace=True)\n",
       "      (activationFlow): ReLU(inplace=True)\n",
       "    )\n",
       "    (5): MaxPool3d(kernel_size=(1, 2, 2), stride=(1, 2, 2), padding=0, dilation=1, ceil_mode=False)\n",
       "    (6): Separable3DConv(\n",
       "      (spatial): Conv3d(16, 32, kernel_size=(1, 3, 3), stride=(1, 1, 1), padding=(0, 1, 1), bias=False)\n",
       "      (temporal): Conv3d(32, 32, kernel_size=(3, 1, 1), stride=(1, 1, 1), padding=(1, 0, 0), bias=False)\n",
       "      (bn): BatchNorm3d(32, eps=1e-05, momentum=0.1, affine=True, track_running_stats=True)\n",
       "      (activationRGB): ReLU(inplace=True)\n",
       "      (activationFlow): ReLU(inplace=True)\n",
       "    )\n",
       "    (7): Separable3DConv(\n",
       "      (spatial): Conv3d(32, 32, kernel_size=(1, 3, 3), stride=(1, 1, 1), padding=(0, 1, 1), bias=False)\n",
       "      (temporal): Conv3d(32, 32, kernel_size=(3, 1, 1), stride=(1, 1, 1), padding=(1, 0, 0), bias=False)\n",
       "      (bn): BatchNorm3d(32, eps=1e-05, momentum=0.1, affine=True, track_running_stats=True)\n",
       "      (activationRGB): ReLU(inplace=True)\n",
       "      (activationFlow): ReLU(inplace=True)\n",
       "    )\n",
       "    (8): MaxPool3d(kernel_size=(1, 2, 2), stride=(1, 2, 2), padding=0, dilation=1, ceil_mode=False)\n",
       "    (9): Separable3DConv(\n",
       "      (spatial): Conv3d(32, 32, kernel_size=(1, 3, 3), stride=(1, 1, 1), padding=(0, 1, 1), bias=False)\n",
       "      (temporal): Conv3d(32, 32, kernel_size=(3, 1, 1), stride=(1, 1, 1), padding=(1, 0, 0), bias=False)\n",
       "      (bn): BatchNorm3d(32, eps=1e-05, momentum=0.1, affine=True, track_running_stats=True)\n",
       "      (activationRGB): ReLU(inplace=True)\n",
       "      (activationFlow): Sigmoid()\n",
       "    )\n",
       "    (10): Separable3DConv(\n",
       "      (spatial): Conv3d(32, 32, kernel_size=(1, 3, 3), stride=(1, 1, 1), padding=(0, 1, 1), bias=False)\n",
       "      (temporal): Conv3d(32, 32, kernel_size=(3, 1, 1), stride=(1, 1, 1), padding=(1, 0, 0), bias=False)\n",
       "      (bn): BatchNorm3d(32, eps=1e-05, momentum=0.1, affine=True, track_running_stats=True)\n",
       "      (activationRGB): ReLU(inplace=True)\n",
       "      (activationFlow): Sigmoid()\n",
       "    )\n",
       "    (11): MaxPool3d(kernel_size=(1, 2, 2), stride=(1, 2, 2), padding=0, dilation=1, ceil_mode=False)\n",
       "  )\n",
       "  (fgf_fusion): FlowGuidedFusion(\n",
       "    (temporal_pool): MaxPool3d(kernel_size=(8, 1, 1), stride=(8, 1, 1), padding=0, dilation=1, ceil_mode=False)\n",
       "  )\n",
       "  (merge_block): Sequential(\n",
       "    (0): Separable3DConv(\n",
       "      (spatial): Conv3d(32, 64, kernel_size=(1, 3, 3), stride=(1, 1, 1), padding=(0, 1, 1), bias=False)\n",
       "      (temporal): Conv3d(64, 64, kernel_size=(3, 1, 1), stride=(1, 1, 1), padding=(1, 0, 0), bias=False)\n",
       "      (bn): BatchNorm3d(64, eps=1e-05, momentum=0.1, affine=True, track_running_stats=True)\n",
       "      (activationRGB): ReLU()\n",
       "      (activationFlow): ReLU()\n",
       "    )\n",
       "    (1): AdaptiveAvgPool3d(output_size=(1, 3, 3))\n",
       "    (2): Separable3DConv(\n",
       "      (spatial): Conv3d(64, 128, kernel_size=(1, 3, 3), stride=(1, 1, 1), padding=(0, 1, 1), bias=False)\n",
       "      (temporal): Conv3d(128, 128, kernel_size=(3, 1, 1), stride=(1, 1, 1), padding=(1, 0, 0), bias=False)\n",
       "      (bn): BatchNorm3d(128, eps=1e-05, momentum=0.1, affine=True, track_running_stats=True)\n",
       "      (activationRGB): ReLU()\n",
       "      (activationFlow): ReLU()\n",
       "    )\n",
       "    (3): AdaptiveMaxPool3d(output_size=(1, 1, 1))\n",
       "    (4): Dropout3d(p=0.3, inplace=False)\n",
       "  )\n",
       "  (classifier): Sequential(\n",
       "    (0): Flatten(start_dim=1, end_dim=-1)\n",
       "    (1): Linear(in_features=128, out_features=128, bias=True)\n",
       "    (2): ReLU(inplace=True)\n",
       "    (3): Dropout(p=0.2465447373174767, inplace=False)\n",
       "    (4): Linear(in_features=128, out_features=32, bias=True)\n",
       "    (5): ReLU(inplace=True)\n",
       "    (6): Linear(in_features=32, out_features=2, bias=True)\n",
       "  )\n",
       ")"
      ]
     },
     "execution_count": 9,
     "metadata": {},
     "output_type": "execute_result"
    }
   ],
   "source": [
    "# ===================================\n",
    "# 4) Carga de modelo y checkpoint\n",
    "# ===================================\n",
    "\n",
    "model = load_model(config)\n",
    "summary(model, input_size=(1, 5, 32, 224, 224), device=device.type)\n",
    "model.eval()\n"
   ]
  },
  {
   "cell_type": "code",
   "execution_count": 10,
   "id": "df7af121",
   "metadata": {},
   "outputs": [],
   "source": [
    "\n",
    "loader = prepare_test_suite(config)"
   ]
  },
  {
   "cell_type": "code",
   "execution_count": 12,
   "id": "c588f91e",
   "metadata": {},
   "outputs": [
    {
     "name": "stdout",
     "output_type": "stream",
     "text": [
      "len(dataset) = 400\n",
      "batch lens = 2 x.shape = torch.Size([8, 5, 32, 224, 224]) y.shape = torch.Size([8])\n"
     ]
    }
   ],
   "source": [
    "print(\"len(dataset) =\", len(loader.dataset))\n",
    "try:\n",
    "    b = next(iter(loader))\n",
    "    if isinstance(b, (list, tuple)):\n",
    "        print(\"batch lens =\", len(b), \"x.shape =\", b[0].shape, \"y.shape =\", b[1].shape if len(b)>=2 else None)\n",
    "    else:\n",
    "        print(\"batch type =\", type(b))\n",
    "except StopIteration:\n",
    "    print(\"NO HAY BATCHES (StopIteration)\")"
   ]
  },
  {
   "cell_type": "code",
   "execution_count": 13,
   "id": "b36886ae",
   "metadata": {},
   "outputs": [
    {
     "name": "stdout",
     "output_type": "stream",
     "text": [
      "Guardado: F:\\tesis_2025\\violence_detection\\Repositorio\\DS3D-FGAttNET\\outputs\\predictions\\altern\\preds_altern.csv\n"
     ]
    }
   ],
   "source": [
    "# ==================================\n",
    "# 5) Bucle de inferencia y guardado\n",
    "# ==================================\n",
    "y_true_all, y_pred_all, y_score_all, ids_all = [], [], [], []\n",
    "sigmoid = nn.Sigmoid()\n",
    "\n",
    "use_amp = (device.type == 'cuda')\n",
    "from torch.amp import autocast\n",
    "\n",
    "with torch.no_grad():\n",
    "    for batch in loader:\n",
    "        # Se asume que el dataset retorna (video, label, id) o (video, label)\n",
    "        if len(batch) == 3:\n",
    "            x, y, ids = batch\n",
    "        else:\n",
    "            x, y = batch\n",
    "            ids = [None] * x.shape[0]\n",
    "\n",
    "        x = x.to(device, non_blocking=True)\n",
    "        y = y.numpy().astype(int)\n",
    "        with autocast(device_type='cuda', enabled=use_amp):\n",
    "            logits = model(x)\n",
    "        if logits.shape[-1] == 1:\n",
    "            # salida tipo logit binario\n",
    "            probs_pos = sigmoid(logits).squeeze(-1).detach().cpu().numpy()\n",
    "        else:\n",
    "            # salida tipo 2 clases\n",
    "            probs = torch.softmax(logits, dim=-1).detach().cpu().numpy()\n",
    "            probs_pos = probs[:, 1]\n",
    "\n",
    "        y_hat = (probs_pos >= THRESHOLD).astype(int)\n",
    "        y_true_all.extend(y.tolist())\n",
    "        y_pred_all.extend(y_hat.tolist())\n",
    "        y_score_all.extend(probs_pos.tolist())\n",
    "        ids_all.extend(ids)\n",
    "\n",
    "y_true = np.array(y_true_all)\n",
    "y_pred = np.array(y_pred_all)\n",
    "y_score = np.array(y_score_all)\n",
    "\n",
    "np.savez(OUT_DIR / 'preds_altern.npz', y_true=y_true, y_pred=y_pred, y_score=y_score, ids=np.array(ids_all, dtype=object))\n",
    "import pandas as pd\n",
    "df_preds = pd.DataFrame({'id': ids_all, 'y_true': y_true, 'y_pred': y_pred, 'y_score': y_score})\n",
    "df_preds.to_csv(OUT_DIR / 'preds_altern.csv', index=False)\n",
    "print(\"Guardado:\", (OUT_DIR / 'preds_altern.csv').resolve())\n"
   ]
  },
  {
   "cell_type": "code",
   "execution_count": null,
   "metadata": {},
   "outputs": [
    {
     "name": "stdout",
     "output_type": "stream",
     "text": [
      "Métricas puntuales:\n",
      "  f1: 0.80612\n",
      "  accuracy: 0.81000\n",
      "  precision: 0.82292\n",
      "  recall: 0.79000\n",
      "  auc: 0.87256\n",
      "  specificity: 0.83000\n",
      "\n",
      "IC 95% (bootstrap):\n",
      "  f1: [0.75862, 0.84800]\n",
      "  accuracy: [0.76750, 0.85000]\n",
      "  precision: [0.76883, 0.87846]\n",
      "  recall: [0.72906, 0.84467]\n",
      "  auc: [0.83480, 0.90515]\n",
      "  specificity: [0.77831, 0.87982]\n"
     ]
    },
    {
     "data": {
      "application/vnd.microsoft.datawrangler.viewer.v0+json": {
       "columns": [
        {
         "name": "index",
         "rawType": "int64",
         "type": "integer"
        },
        {
         "name": "metric",
         "rawType": "object",
         "type": "string"
        },
        {
         "name": "point_estimate",
         "rawType": "float64",
         "type": "float"
        },
        {
         "name": "ci_low",
         "rawType": "float64",
         "type": "float"
        },
        {
         "name": "ci_high",
         "rawType": "float64",
         "type": "float"
        }
       ],
       "ref": "9758155a-fccf-4e8e-8a4c-8242fcc4e690",
       "rows": [
        [
         "0",
         "f1",
         "0.806122448979592",
         "0.7586206896551724",
         "0.848000980392157"
        ],
        [
         "1",
         "accuracy",
         "0.81",
         "0.7675",
         "0.85"
        ],
        [
         "2",
         "precision",
         "0.8229166666666666",
         "0.7688336418936789",
         "0.878457732124658"
        ],
        [
         "3",
         "recall",
         "0.79",
         "0.7290617374890659",
         "0.8446704498837686"
        ],
        [
         "4",
         "auc",
         "0.8725625",
         "0.8347992252328079",
         "0.9051500785330826"
        ],
        [
         "5",
         "specificity",
         "0.83",
         "0.7783114395183361",
         "0.8798177083333333"
        ]
       ],
       "shape": {
        "columns": 4,
        "rows": 6
       }
      },
      "text/html": [
       "<div>\n",
       "<style scoped>\n",
       "    .dataframe tbody tr th:only-of-type {\n",
       "        vertical-align: middle;\n",
       "    }\n",
       "\n",
       "    .dataframe tbody tr th {\n",
       "        vertical-align: top;\n",
       "    }\n",
       "\n",
       "    .dataframe thead th {\n",
       "        text-align: right;\n",
       "    }\n",
       "</style>\n",
       "<table border=\"1\" class=\"dataframe\">\n",
       "  <thead>\n",
       "    <tr style=\"text-align: right;\">\n",
       "      <th></th>\n",
       "      <th>metric</th>\n",
       "      <th>point_estimate</th>\n",
       "      <th>ci_low</th>\n",
       "      <th>ci_high</th>\n",
       "    </tr>\n",
       "  </thead>\n",
       "  <tbody>\n",
       "    <tr>\n",
       "      <th>0</th>\n",
       "      <td>f1</td>\n",
       "      <td>0.806122</td>\n",
       "      <td>0.758621</td>\n",
       "      <td>0.848001</td>\n",
       "    </tr>\n",
       "    <tr>\n",
       "      <th>1</th>\n",
       "      <td>accuracy</td>\n",
       "      <td>0.810000</td>\n",
       "      <td>0.767500</td>\n",
       "      <td>0.850000</td>\n",
       "    </tr>\n",
       "    <tr>\n",
       "      <th>2</th>\n",
       "      <td>precision</td>\n",
       "      <td>0.822917</td>\n",
       "      <td>0.768834</td>\n",
       "      <td>0.878458</td>\n",
       "    </tr>\n",
       "    <tr>\n",
       "      <th>3</th>\n",
       "      <td>recall</td>\n",
       "      <td>0.790000</td>\n",
       "      <td>0.729062</td>\n",
       "      <td>0.844670</td>\n",
       "    </tr>\n",
       "    <tr>\n",
       "      <th>4</th>\n",
       "      <td>auc</td>\n",
       "      <td>0.872563</td>\n",
       "      <td>0.834799</td>\n",
       "      <td>0.905150</td>\n",
       "    </tr>\n",
       "    <tr>\n",
       "      <th>5</th>\n",
       "      <td>specificity</td>\n",
       "      <td>0.830000</td>\n",
       "      <td>0.778311</td>\n",
       "      <td>0.879818</td>\n",
       "    </tr>\n",
       "  </tbody>\n",
       "</table>\n",
       "</div>"
      ],
      "text/plain": [
       "        metric  point_estimate    ci_low   ci_high\n",
       "0           f1        0.806122  0.758621  0.848001\n",
       "1     accuracy        0.810000  0.767500  0.850000\n",
       "2    precision        0.822917  0.768834  0.878458\n",
       "3       recall        0.790000  0.729062  0.844670\n",
       "4          auc        0.872563  0.834799  0.905150\n",
       "5  specificity        0.830000  0.778311  0.879818"
      ]
     },
     "execution_count": 14,
     "metadata": {},
     "output_type": "execute_result"
    }
   ],
   "source": [
    "# ==============================================\n",
    "# 6) Métricas puntuales + IC 95% (bootstrap)\n",
    "# ==============================================\n",
    "def specificity_score(y_true: np.ndarray, y_pred: np.ndarray) -> float:\n",
    "    cm = confusion_matrix(y_true, y_pred, labels=[0,1])\n",
    "    tn, fp, fn, tp = cm.ravel()\n",
    "    return tn / (tn + fp) if (tn + fp) > 0 else 0.0\n",
    "\n",
    "def metrics_pointwise(y_true, y_pred, y_score):\n",
    "    # y_pred debe ser etiquetas binarias (0/1); y_score probabilidad del positivo\n",
    "    res = {}\n",
    "    res['f1'] = float(f1_score(y_true, y_pred, zero_division=0))\n",
    "    res['accuracy'] = float(accuracy_score(y_true, y_pred))\n",
    "    res['precision'] = float(precision_score(y_true, y_pred, zero_division=0))\n",
    "    res['recall'] = float(recall_score(y_true, y_pred, zero_division=0))\n",
    "    # especificidad = TN / (TN + FP)\n",
    "    tn, fp, fn, tp = confusion_matrix(y_true, y_pred).ravel()\n",
    "    spec = tn / (tn + fp) if (tn + fp) > 0 else 0.0\n",
    "    res['specificity'] = float(spec)\n",
    "    # AUC: si y_score es constante o no suficiente variedad, capturar excepción\n",
    "    try:\n",
    "        res['auc'] = float(roc_auc_score(y_true, y_score))\n",
    "    except Exception:\n",
    "        res['auc'] = float('nan')\n",
    "    return res\n",
    "\n",
    "def bootstrap_ci_stratified(y_true: np.ndarray, y_pred: np.ndarray, y_score: np.ndarray,\n",
    "                            B: int = 1000, seed: int = 42) -> dict[str, tuple[float, float]]:\n",
    "    rng = np.random.default_rng(seed)\n",
    "    y_true = np.asarray(y_true); y_pred = np.asarray(y_pred); y_score = np.asarray(y_score)\n",
    "\n",
    "    idx_pos = np.where(y_true == 1)[0]\n",
    "    idx_neg = np.where(y_true == 0)[0]\n",
    "    n_pos, n_neg = len(idx_pos), len(idx_neg)\n",
    "\n",
    "    vals = {k: [] for k in ['f1','accuracy','precision','recall','auc','specificity']}\n",
    "    for _ in range(B):\n",
    "        # muestreo con reemplazo por estrato\n",
    "        s_pos = rng.integers(0, n_pos, size=n_pos)\n",
    "        s_neg = rng.integers(0, n_neg, size=n_neg)\n",
    "        idx_b = np.concatenate([idx_pos[s_pos], idx_neg[s_neg]])\n",
    "\n",
    "        yt = y_true[idx_b]\n",
    "        yp = y_pred[idx_b]\n",
    "        ys = y_score[idx_b]\n",
    "\n",
    "        m = metrics_pointwise(yt, yp, ys)\n",
    "        for k, v in m.items():\n",
    "            vals[k].append(v)\n",
    "\n",
    "    ci = {}\n",
    "    for k, arr in vals.items():\n",
    "        lo, hi = np.percentile(arr, [2.5, 97.5])\n",
    "        ci[k] = (float(lo), float(hi))\n",
    "    return ci\n",
    "\n",
    "m_point = metrics_pointwise(y_true, y_pred, y_score)\n",
    "m_ci = bootstrap_ci_stratified(y_true, y_pred, y_score, B=BOOTSTRAP_B, seed=BOOTSTRAP_SEED)\n",
    "\n",
    "print(\"Métricas puntuales:\")\n",
    "for k, v in m_point.items():\n",
    "    print(f\"  {k}: {v:.5f}\")\n",
    "print(\"\\nIC 95% (bootstrap):\")\n",
    "for k, (lo, hi) in m_ci.items():\n",
    "    print(f\"  {k}: [{lo:.5f}, {hi:.5f}]\")\n",
    "\n",
    "df_metrics = pd.DataFrame({\n",
    "    'metric': list(m_point.keys()),\n",
    "    'point_estimate': [m_point[k] for k in m_point.keys()],\n",
    "    'ci_low': [m_ci[k][0] for k in m_point.keys()],\n",
    "    'ci_high': [m_ci[k][1] for k in m_point.keys()],\n",
    "})\n",
    "df_metrics.to_csv(OUT_DIR / 'metrics_altern.csv', index=False)\n",
    "df_metrics\n"
   ]
  },
  {
   "cell_type": "code",
   "execution_count": 15,
   "metadata": {},
   "outputs": [
    {
     "data": {
      "image/png": "[encoded data removed]",
      "text/plain": [
       "<Figure size 768x576 with 1 Axes>"
      ]
     },
     "metadata": {},
     "output_type": "display_data"
    },
    {
     "name": "stdout",
     "output_type": "stream",
     "text": [
      "Guardado: F:\\tesis_2025\\violence_detection\\Repositorio\\DS3D-FGAttNET\\outputs\\predictions\\altern\\cm_altern.png\n"
     ]
    }
   ],
   "source": [
    "# ============================\n",
    "# 7) Matriz de confusión (PNG)\n",
    "# ============================\n",
    "cm = confusion_matrix(y_true, y_pred, labels=[0,1])\n",
    "fig = plt.figure()\n",
    "ax = plt.gca()\n",
    "im = ax.imshow(cm, interpolation='nearest')\n",
    "ax.set_title('Matriz de confusión — modelo alterno')\n",
    "ax.set_xlabel('Predicción')\n",
    "ax.set_ylabel('Etiqueta verdadera')\n",
    "ax.set_xticks([0,1]); ax.set_yticks([0,1])\n",
    "for i in range(cm.shape[0]):\n",
    "    for j in range(cm.shape[1]):\n",
    "        ax.text(j, i, str(cm[i, j]), ha='center', va='center')\n",
    "fig.tight_layout()\n",
    "path_cm = OUT_DIR / 'cm_altern.png'\n",
    "plt.savefig(path_cm)\n",
    "plt.show()\n",
    "print('Guardado:', path_cm.resolve())\n"
   ]
  },
  {
   "cell_type": "code",
   "execution_count": null,
   "metadata": {},
   "outputs": [
    {
     "data": {
      "image/png": "[encoded data removed]",
      "text/plain": [
       "<Figure size 768x576 with 1 Axes>"
      ]
     },
     "metadata": {},
     "output_type": "display_data"
    },
    {
     "name": "stdout",
     "output_type": "stream",
     "text": [
      "Guardado: F:\\tesis_2025\\violence_detection\\Repositorio\\DS3D-FGAttNET\\outputs\\predictions\\altern\\roc_alterno.png\n"
     ]
    }
   ],
   "source": [
    "# ======================\n",
    "# 8) Curva ROC (PNG)\n",
    "# ======================\n",
    "rng = np.random.default_rng(BOOTSTRAP_SEED)\n",
    "\n",
    "fpr, tpr, thr = roc_curve(y_true, y_score)\n",
    "auc_val = roc_auc_score(y_true, y_score)\n",
    "\n",
    "fpr_grid = np.linspace(0, 1, 201)\n",
    "tprs = []\n",
    "\n",
    "idx_pos = np.where(np.array(y_true) == 1)[0]\n",
    "idx_neg = np.where(np.array(y_true) == 0)[0]\n",
    "n_pos, n_neg = len(idx_pos), len(idx_neg)\n",
    "\n",
    "for _ in range(BOOTSTRAP_B):\n",
    "    s_pos = rng.integers(0, n_pos, size=n_pos)\n",
    "    s_neg = rng.integers(0, n_neg, size=n_neg)\n",
    "    idx_b = np.concatenate([idx_pos[s_pos], idx_neg[s_neg]])\n",
    "\n",
    "    yt = np.array(y_true)[idx_b]\n",
    "    ys = np.array(y_score)[idx_b]\n",
    "\n",
    "    fpr_b, tpr_b, _ = roc_curve(yt, ys)\n",
    "    tpr_interp = np.interp(fpr_grid, fpr_b, tpr_b, left=0, right=1)\n",
    "    tprs.append(tpr_interp)\n",
    "\n",
    "tprs = np.array(tprs)\n",
    "tpr_lo = np.percentile(tprs, 2.5, axis=0)\n",
    "tpr_hi = np.percentile(tprs, 97.5, axis=0)\n",
    "\n",
    "fig = plt.figure()\n",
    "plt.plot(fpr, tpr, label=f'ROC (AUC={auc_val:.3f})')\n",
    "plt.fill_between(fpr_grid, tpr_lo, tpr_hi, color='blue', alpha=0.2, label='IC95% bootstrap')\n",
    "plt.plot([0,1], [0,1], linestyle='--')\n",
    "plt.xlabel('FPR')\n",
    "plt.ylabel('TPR')\n",
    "plt.title('Curva ROC — modelo alterno')\n",
    "plt.legend(loc='lower right')\n",
    "path_roc = OUT_DIR / 'roc_alterno.png'\n",
    "plt.savefig(path_roc)\n",
    "plt.show()\n",
    "print('Guardado:', path_roc.resolve())\n"
   ]
  },
  {
   "cell_type": "code",
   "execution_count": null,
   "metadata": {},
   "outputs": [
    {
     "name": "stdout",
     "output_type": "stream",
     "text": [
      "{'latency_ms_per_batch': 294.761061668396, 'fps_clips_per_s': 27.14062690207006}\n"
     ]
    },
    {
     "data": {
      "text/plain": [
       "{'latency_ms_per_batch': 294.761061668396,\n",
       " 'fps_clips_per_s': 27.14062690207006,\n",
       " 'model_size_mb': 1.0880813598632812}"
      ]
     },
     "execution_count": 17,
     "metadata": {},
     "output_type": "execute_result"
    }
   ],
   "source": [
    "# =================================================\n",
    "# 9) Eficiencia: latencia/FPS y tamaño del modelo\n",
    "# =================================================\n",
    "def measure_efficiency(model: nn.Module, loader: DataLoader, n_batches: int = 20) -> Dict[str, float]:\n",
    "    model.eval()\n",
    "    # Warm-up\n",
    "    with torch.no_grad():\n",
    "        it = iter(loader)\n",
    "        for _ in range(10):\n",
    "            try:\n",
    "                x, *_ = next(it)\n",
    "            except StopIteration:\n",
    "                break\n",
    "            x = x.to(device, non_blocking=True)\n",
    "            _ = model(x)\n",
    "            if device.type == 'cuda':\n",
    "                torch.cuda.synchronize()\n",
    "    # Measure\n",
    "    times = []\n",
    "    with torch.no_grad():\n",
    "        it = iter(loader)\n",
    "        for i in range(n_batches):\n",
    "            try:\n",
    "                x, *_ = next(it)\n",
    "            except StopIteration:\n",
    "                break\n",
    "            x = x.to(device, non_blocking=True)\n",
    "            if device.type == 'cuda':\n",
    "                torch.cuda.synchronize()\n",
    "            t0 = time.time()\n",
    "            _ = model(x)\n",
    "            if device.type == 'cuda':\n",
    "                torch.cuda.synchronize()\n",
    "            t1 = time.time()\n",
    "            times.append(t1 - t0)\n",
    "    if len(times) == 0:\n",
    "        return {'latency_ms_per_batch': None, 'fps_clips_per_s': None}\n",
    "    latency_ms = float(np.mean(times) * 1000.0)\n",
    "    bs = loader.batch_size if hasattr(loader, 'batch_size') else 1\n",
    "    fps = float((bs) / np.mean(times))\n",
    "    return {'latency_ms_per_batch': latency_ms, 'fps_clips_per_s': fps}\n",
    "\n",
    "eff = measure_efficiency(model, loader, n_batches=20)\n",
    "print(eff)\n",
    "\n",
    "def sizeof_model_mb(model: nn.Module) -> float:\n",
    "    total = 0\n",
    "    for p in model.parameters():\n",
    "        total += p.nelement() * p.element_size()\n",
    "    return total / (1024**2)\n",
    "\n",
    "size_mb = sizeof_model_mb(model)\n",
    "summary_eff = {'latency_ms_per_batch': eff['latency_ms_per_batch'], 'fps_clips_per_s': eff['fps_clips_per_s'], 'model_size_mb': size_mb}\n",
    "save_json(summary_eff, OUT_DIR / 'efficiency_alterno.json')\n",
    "summary_eff\n"
   ]
  },
  {
   "cell_type": "markdown",
   "id": "1bef90b6",
   "metadata": {},
   "source": [
    "\n",
    "### Curva PR (opcional, dataset balanceado)\n",
    "Calcula y exporta **Precision–Recall** y **AUPRC**\n"
   ]
  },
  {
   "cell_type": "code",
   "execution_count": 18,
   "id": "60dd9bc4",
   "metadata": {},
   "outputs": [
    {
     "data": {
      "image/png": "[encoded data removed]",
      "text/plain": [
       "<Figure size 768x576 with 1 Axes>"
      ]
     },
     "metadata": {},
     "output_type": "display_data"
    },
    {
     "name": "stdout",
     "output_type": "stream",
     "text": [
      "Guardado: F:\\tesis_2025\\violence_detection\\Repositorio\\DS3D-FGAttNET\\outputs\\predictions\\altern\\pr_alterno.png | AUPRC = 0.8802657098042979\n"
     ]
    }
   ],
   "source": [
    "\n",
    "from sklearn.metrics import precision_recall_curve, average_precision_score\n",
    "import numpy as np\n",
    "import matplotlib.pyplot as plt\n",
    "\n",
    "prec, rec, thr_pr = precision_recall_curve(y_true, y_score)\n",
    "auprc = average_precision_score(y_true, y_score)\n",
    "\n",
    "fig = plt.figure()\n",
    "plt.plot(rec, prec, label=f'PR (AUPRC={auprc:.3f})')\n",
    "plt.xlabel('Recall')\n",
    "plt.ylabel('Precision')\n",
    "plt.title('Curva PR — modelo alterno')\n",
    "plt.legend(loc='lower left')\n",
    "path_pr = OUT_DIR / 'pr_alterno.png'\n",
    "plt.savefig(path_pr)\n",
    "plt.show()\n",
    "print('Guardado:', path_pr.resolve(), '| AUPRC =', auprc)\n"
   ]
  },
  {
   "cell_type": "markdown",
   "id": "dfbe8424",
   "metadata": {},
   "source": [
    "\n",
    "### Banda de confianza ROC (bootstrap, IC 95 %)\n",
    "Genera una **banda de confianza** alrededor de la curva ROC usando bootstrap (B=1000, semilla=42).\n"
   ]
  },
  {
   "cell_type": "code",
   "execution_count": null,
   "id": "4718f407",
   "metadata": {},
   "outputs": [
    {
     "data": {
      "image/png": "[encoded data removed]",
      "text/plain": [
       "<Figure size 768x576 with 1 Axes>"
      ]
     },
     "metadata": {},
     "output_type": "display_data"
    },
    {
     "name": "stdout",
     "output_type": "stream",
     "text": [
      "Guardado: F:\\tesis_2025\\violence_detection\\Repositorio\\DS3D-FGAttNET\\outputs\\predictions\\altern\\roc_alterno_ci.png\n"
     ]
    }
   ],
   "source": [
    "\n",
    "import numpy as np\n",
    "import matplotlib.pyplot as plt\n",
    "from sklearn.metrics import roc_curve\n",
    "rng = np.random.default_rng(BOOTSTRAP_SEED)\n",
    "grid_fpr = np.linspace(0, 1, 201)\n",
    "\n",
    "tprs = []\n",
    "n = len(y_true)\n",
    "for _ in range(BOOTSTRAP_B):\n",
    "    idx = rng.integers(0, n, size=n)\n",
    "    fpr_b, tpr_b, _ = roc_curve(y_true[idx], y_score[idx])\n",
    "    tpr_interp = np.interp(grid_fpr, fpr_b, tpr_b, left=0, right=1)\n",
    "    tprs.append(tpr_interp)\n",
    "tprs = np.array(tprs)\n",
    "lo = np.percentile(tprs, 2.5, axis=0)\n",
    "hi = np.percentile(tprs, 97.5, axis=0)\n",
    "\n",
    "fig = plt.figure()\n",
    "plt.plot(fpr, tpr, label='ROC (estimación puntual)')\n",
    "plt.fill_between(grid_fpr, lo, hi, alpha=0.2, label='IC 95% (bootstrap)')\n",
    "plt.plot([0,1],[0,1],'--')\n",
    "plt.xlabel('FPR')\n",
    "plt.ylabel('TPR')\n",
    "plt.title('Curva ROC con banda de confianza — modelo alterno')\n",
    "plt.legend(loc='lower right')\n",
    "path_roc_ci = OUT_DIR / 'roc_alterno_ci.png'\n",
    "plt.savefig(path_roc_ci)\n",
    "plt.show()\n",
    "print('Guardado:', path_roc_ci.resolve())\n"
   ]
  },
  {
   "cell_type": "markdown",
   "id": "c27179df",
   "metadata": {},
   "source": [
    "\n",
    "### Classification report (texto y CSV)\n",
    "\n"
   ]
  },
  {
   "cell_type": "code",
   "execution_count": 20,
   "id": "d702ec84",
   "metadata": {},
   "outputs": [
    {
     "name": "stdout",
     "output_type": "stream",
     "text": [
      "Guardado: classification_report_alterno.txt / .csv\n"
     ]
    }
   ],
   "source": [
    "\n",
    "from sklearn.metrics import classification_report\n",
    "import pandas as pd\n",
    "\n",
    "report_txt = classification_report(y_true, y_pred, target_names=['NonViolence','Violence'], digits=4, zero_division=0)\n",
    "with open(OUT_DIR / 'classification_report_alterno.txt', 'w', encoding='utf-8') as f:\n",
    "    f.write(report_txt)\n",
    "\n",
    "# convertir a dataframe\n",
    "rep_dict = classification_report(y_true, y_pred, target_names=['NonViolence','Violence'], output_dict=True, zero_division=0)\n",
    "df_rep = pd.DataFrame(rep_dict).transpose()\n",
    "df_rep.to_csv(OUT_DIR / 'classification_report_alterno.csv', index=True)\n",
    "print('Guardado: classification_report_alterno.txt / .csv')\n"
   ]
  },
  {
   "cell_type": "markdown",
   "id": "8111bf1f",
   "metadata": {},
   "source": [
    "\n",
    "### Matriz de confusión normalizada (por filas)\n",
    "\n"
   ]
  },
  {
   "cell_type": "code",
   "execution_count": 21,
   "id": "94f9b8ed",
   "metadata": {},
   "outputs": [
    {
     "data": {
      "image/png": "[encoded data removed]",
      "text/plain": [
       "<Figure size 768x576 with 1 Axes>"
      ]
     },
     "metadata": {},
     "output_type": "display_data"
    },
    {
     "name": "stdout",
     "output_type": "stream",
     "text": [
      "Guardado: F:\\tesis_2025\\violence_detection\\Repositorio\\DS3D-FGAttNET\\outputs\\predictions\\altern\\cm_alterno_normalizada.png\n"
     ]
    }
   ],
   "source": [
    "\n",
    "import numpy as np\n",
    "import matplotlib.pyplot as plt\n",
    "from sklearn.metrics import confusion_matrix\n",
    "\n",
    "cm = confusion_matrix(y_true, y_pred, labels=[0,1])\n",
    "cm_norm = cm.astype(float) / cm.sum(axis=1, keepdims=True).clip(min=1)\n",
    "\n",
    "fig = plt.figure()\n",
    "ax = plt.gca()\n",
    "im = ax.imshow(cm_norm, interpolation='nearest')\n",
    "ax.set_title('Matriz de confusión normalizada — modelo alterno')\n",
    "ax.set_xlabel('Predicción')\n",
    "ax.set_ylabel('Etiqueta verdadera')\n",
    "ax.set_xticks([0,1]); ax.set_yticks([0,1])\n",
    "for i in range(cm.shape[0]):\n",
    "    for j in range(cm.shape[1]):\n",
    "        ax.text(j, i, f\"{cm_norm[i, j]:.2f}\", ha='center', va='center')\n",
    "fig.tight_layout()\n",
    "path_cmn = OUT_DIR / 'cm_alterno_normalizada.png'\n",
    "plt.savefig(path_cmn)\n",
    "plt.show()\n",
    "print('Guardado:', path_cmn.resolve())\n"
   ]
  }
 ],
 "metadata": {
  "kernelspec": {
   "display_name": "base",
   "language": "python",
   "name": "python3"
  },
  "language_info": {
   "codemirror_mode": {
    "name": "ipython",
    "version": 3
   },
   "file_extension": ".py",
   "mimetype": "text/x-python",
   "name": "python",
   "nbconvert_exporter": "python",
   "pygments_lexer": "ipython3",
   "version": "3.10.9"
  }
 },
 "nbformat": 4,
 "nbformat_minor": 5
}
